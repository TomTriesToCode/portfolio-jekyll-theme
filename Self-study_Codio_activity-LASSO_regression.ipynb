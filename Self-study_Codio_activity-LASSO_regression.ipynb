{
 "cells": [
  {
   "cell_type": "markdown",
   "id": "219543bf",
   "metadata": {
    "nbgrader": {
     "grade": false,
     "grade_id": "cell-55259da9c2e8f54c",
     "locked": true,
     "schema_version": 3,
     "solution": false,
     "task": false
    }
   },
   "source": [
    "# Self-study Codio activity: LASSO regression\n",
    "---\n",
    "\n",
    "## Overview\n",
    "\n",
    "In this activity, you will build a LASSO regression model using the LASSO loss function and scipy's `minimize` function.\n",
    "\n",
    "This activity is designed to build your familiarity and comfort coding in Python while also helping you review key topics from each module. As you progress through the activity, questions will get increasingly more complex. It is important that you adopt a programmer's mindset when completing this activity. Remember to run your code from each cell before submitting your activity, as doing so will give you a chance to fix any errors before submitting.\n",
    "\n",
    "\n",
    "\n",
    "### Learning outcome addressed\n",
    "\n",
    "- Apply nonlinear optimisation to regularised least squares regression.\n",
    "\n"
   ]
  },
  {
   "cell_type": "markdown",
   "id": "2f4471ed",
   "metadata": {
    "nbgrader": {
     "grade": false,
     "grade_id": "cell-e3edc24212802245",
     "locked": true,
     "schema_version": 1,
     "solution": false
    }
   },
   "source": [
    "## Index:\n",
    "\n",
    "- [Question 1](#Question-1)\n",
    "- [Question 2](#Question-2)"
   ]
  },
  {
   "cell_type": "code",
   "execution_count": null,
   "id": "ec1c6501",
   "metadata": {
    "nbgrader": {
     "grade": false,
     "grade_id": "cell-422119cf96065212",
     "locked": true,
     "schema_version": 3,
     "solution": false,
     "task": false
    }
   },
   "outputs": [],
   "source": [
    "import numpy as np\n",
    "import pandas as pd\n",
    "import matplotlib.pyplot as plt\n",
    "import seaborn as sns\n",
    "from sklearn.model_selection import train_test_split\n",
    "from sklearn.preprocessing import StandardScaler"
   ]
  },
  {
   "cell_type": "markdown",
   "id": "fcc9a11f",
   "metadata": {
    "nbgrader": {
     "grade": false,
     "grade_id": "cell-2dfc2701d7af552e",
     "locked": true,
     "schema_version": 3,
     "solution": false,
     "task": false
    }
   },
   "source": [
    "### Small Example\n",
    "\n",
    "Below, a simple data set involving data about dining at a restaurant and the tips given to wait staff is loaded and displayed.  The goal will be to predict the tip using the bill. "
   ]
  },
  {
   "cell_type": "code",
   "execution_count": null,
   "id": "b0829e8a",
   "metadata": {
    "nbgrader": {
     "grade": false,
     "grade_id": "cell-d9062a2ebbb17a31",
     "locked": true,
     "schema_version": 3,
     "solution": false,
     "task": false
    }
   },
   "outputs": [],
   "source": [
    "tips = sns.load_dataset('tips')"
   ]
  },
  {
   "cell_type": "code",
   "execution_count": 4,
   "id": "fdb64158",
   "metadata": {
    "nbgrader": {
     "grade": false,
     "grade_id": "cell-64d52a2e1e1fa975",
     "locked": true,
     "schema_version": 3,
     "solution": false,
     "task": false
    }
   },
   "outputs": [
    {
     "data": {
      "text/html": [
       "<div>\n",
       "<style scoped>\n",
       "    .dataframe tbody tr th:only-of-type {\n",
       "        vertical-align: middle;\n",
       "    }\n",
       "\n",
       "    .dataframe tbody tr th {\n",
       "        vertical-align: top;\n",
       "    }\n",
       "\n",
       "    .dataframe thead th {\n",
       "        text-align: right;\n",
       "    }\n",
       "</style>\n",
       "<table border=\"1\" class=\"dataframe\">\n",
       "  <thead>\n",
       "    <tr style=\"text-align: right;\">\n",
       "      <th></th>\n",
       "      <th>total_bill</th>\n",
       "      <th>tip</th>\n",
       "      <th>sex</th>\n",
       "      <th>smoker</th>\n",
       "      <th>day</th>\n",
       "      <th>time</th>\n",
       "      <th>size</th>\n",
       "    </tr>\n",
       "  </thead>\n",
       "  <tbody>\n",
       "    <tr>\n",
       "      <th>0</th>\n",
       "      <td>16.99</td>\n",
       "      <td>1.01</td>\n",
       "      <td>Female</td>\n",
       "      <td>No</td>\n",
       "      <td>Sun</td>\n",
       "      <td>Dinner</td>\n",
       "      <td>2</td>\n",
       "    </tr>\n",
       "    <tr>\n",
       "      <th>1</th>\n",
       "      <td>10.34</td>\n",
       "      <td>1.66</td>\n",
       "      <td>Male</td>\n",
       "      <td>No</td>\n",
       "      <td>Sun</td>\n",
       "      <td>Dinner</td>\n",
       "      <td>3</td>\n",
       "    </tr>\n",
       "    <tr>\n",
       "      <th>2</th>\n",
       "      <td>21.01</td>\n",
       "      <td>3.50</td>\n",
       "      <td>Male</td>\n",
       "      <td>No</td>\n",
       "      <td>Sun</td>\n",
       "      <td>Dinner</td>\n",
       "      <td>3</td>\n",
       "    </tr>\n",
       "    <tr>\n",
       "      <th>3</th>\n",
       "      <td>23.68</td>\n",
       "      <td>3.31</td>\n",
       "      <td>Male</td>\n",
       "      <td>No</td>\n",
       "      <td>Sun</td>\n",
       "      <td>Dinner</td>\n",
       "      <td>2</td>\n",
       "    </tr>\n",
       "    <tr>\n",
       "      <th>4</th>\n",
       "      <td>24.59</td>\n",
       "      <td>3.61</td>\n",
       "      <td>Female</td>\n",
       "      <td>No</td>\n",
       "      <td>Sun</td>\n",
       "      <td>Dinner</td>\n",
       "      <td>4</td>\n",
       "    </tr>\n",
       "  </tbody>\n",
       "</table>\n",
       "</div>"
      ],
      "text/plain": [
       "   total_bill   tip     sex smoker  day    time  size\n",
       "0       16.99  1.01  Female     No  Sun  Dinner     2\n",
       "1       10.34  1.66    Male     No  Sun  Dinner     3\n",
       "2       21.01  3.50    Male     No  Sun  Dinner     3\n",
       "3       23.68  3.31    Male     No  Sun  Dinner     2\n",
       "4       24.59  3.61  Female     No  Sun  Dinner     4"
      ]
     },
     "execution_count": 4,
     "metadata": {},
     "output_type": "execute_result"
    }
   ],
   "source": [
    "tips.head()"
   ]
  },
  {
   "cell_type": "code",
   "execution_count": 5,
   "id": "0fa1141d",
   "metadata": {
    "nbgrader": {
     "grade": false,
     "grade_id": "cell-ec361b0cf5079f0a",
     "locked": true,
     "schema_version": 3,
     "solution": false,
     "task": false
    }
   },
   "outputs": [
    {
     "data": {
      "image/png": "[encoded data removed]",
      "text/plain": [
       "<Figure size 640x480 with 1 Axes>"
      ]
     },
     "metadata": {},
     "output_type": "display_data"
    }
   ],
   "source": [
    "sns.scatterplot(data = tips, x = 'total_bill', y = 'tip')\n",
    "plt.title('Total bill vs. tip')\n",
    "plt.xlabel('Total bill')\n",
    "plt.ylabel('Tip')\n",
    "plt.grid();"
   ]
  },
  {
   "cell_type": "markdown",
   "id": "92aa10e7",
   "metadata": {
    "nbgrader": {
     "grade": false,
     "grade_id": "cell-fb2767b33bb8318a",
     "locked": true,
     "schema_version": 3,
     "solution": false,
     "task": false
    }
   },
   "source": [
    "### The LASSO model\n",
    "\n",
    "The loss function for a LASSO regression model is given below as `lasso`.  The function takes in a parameter vector `beta` and returns the squared error plus the penalty term.  This will be used to find a line of best fit for the tips data.  In this example, there is no y-intercept."
   ]
  },
  {
   "cell_type": "code",
   "execution_count": 6,
   "id": "21d5c4b5",
   "metadata": {
    "nbgrader": {
     "grade": false,
     "grade_id": "cell-5e7e275d3cbd491e",
     "locked": true,
     "schema_version": 3,
     "solution": false,
     "task": false
    }
   },
   "outputs": [],
   "source": [
    "def lasso(beta):\n",
    "    loss = (beta*x - y)**2 + alpha*np.abs(beta)\n",
    "    return np.mean(loss)"
   ]
  },
  {
   "cell_type": "code",
   "execution_count": 7,
   "id": "b9d54300",
   "metadata": {
    "nbgrader": {
     "grade": false,
     "grade_id": "cell-ce0433955e9433f8",
     "locked": true,
     "schema_version": 3,
     "solution": false,
     "task": false
    }
   },
   "outputs": [],
   "source": [
    "x = tips['total_bill']\n",
    "y = tips['tip']\n",
    "alpha = 0.1"
   ]
  },
  {
   "cell_type": "code",
   "execution_count": 8,
   "id": "80accb35",
   "metadata": {
    "nbgrader": {
     "grade": false,
     "grade_id": "cell-006cc2c587155ce1",
     "locked": true,
     "schema_version": 3,
     "solution": false,
     "task": false
    }
   },
   "outputs": [
    {
     "data": {
      "text/plain": [
       "346.18162254098354"
      ]
     },
     "execution_count": 8,
     "metadata": {},
     "output_type": "execute_result"
    }
   ],
   "source": [
    "#lasso loss with slope of 1\n",
    "lasso(1)"
   ]
  },
  {
   "cell_type": "markdown",
   "id": "c5fa58d6",
   "metadata": {
    "nbgrader": {
     "grade": false,
     "grade_id": "cell-29ff8c5b6c5072d4",
     "locked": true,
     "schema_version": 3,
     "solution": false,
     "task": false
    }
   },
   "source": [
    "This is a minimisation problem where your goal is to find the parameter `beta` that minimises the `lasso` function.  Below, the `minimize` function is used to determine the parameters that minimise the `lasso` loss function. The results are displayed."
   ]
  },
  {
   "cell_type": "code",
   "execution_count": 9,
   "id": "7d5111a1",
   "metadata": {
    "nbgrader": {
     "grade": false,
     "grade_id": "cell-8743ed086e9bcc2d",
     "locked": true,
     "schema_version": 3,
     "solution": false,
     "task": false
    }
   },
   "outputs": [],
   "source": [
    "from scipy.optimize import minimize"
   ]
  },
  {
   "cell_type": "code",
   "execution_count": 10,
   "id": "e01fcd79",
   "metadata": {
    "nbgrader": {
     "grade": false,
     "grade_id": "cell-22db3b7aa1ac9f00",
     "locked": true,
     "schema_version": 3,
     "solution": false,
     "task": false
    }
   },
   "outputs": [],
   "source": [
    "results = minimize(lasso, x0 = 0)"
   ]
  },
  {
   "cell_type": "code",
   "execution_count": 11,
   "id": "bfc2be7b",
   "metadata": {
    "nbgrader": {
     "grade": false,
     "grade_id": "cell-fc06cdb79dc5ed35",
     "locked": true,
     "schema_version": 3,
     "solution": false,
     "task": false
    }
   },
   "outputs": [
    {
     "name": "stdout",
     "output_type": "stream",
     "text": [
      "The parameter that minimizes the lasso loss with alpha: 0.1 is slope: 0.1436\n"
     ]
    }
   ],
   "source": [
    "print(f'The parameter that minimizes the lasso loss with alpha: {alpha} is slope: {results.x[0] :.4f}')"
   ]
  },
  {
   "cell_type": "markdown",
   "id": "233308af",
   "metadata": {
    "nbgrader": {
     "grade": false,
     "grade_id": "cell-9d4481e775d1a6a1",
     "locked": true,
     "schema_version": 3,
     "solution": false,
     "task": false
    }
   },
   "source": [
    "Using more inputs is a simple adjustment to the loss function given below.  This is then implemented using the `total_bill` and `size` columns to demonstrate.  For more features, you would simply need to instantiate the `minimize` function with `x0` to match the number of features.  To add an intercept, you would add one and concatenate a column of ones on `x` before multiplying."
   ]
  },
  {
   "cell_type": "markdown",
   "id": "551c055e",
   "metadata": {
    "nbgrader": {
     "grade": false,
     "grade_id": "cell-35516a0d424080e9",
     "locked": true,
     "schema_version": 3,
     "solution": false,
     "task": false
    }
   },
   "source": [
    "If you have multiple features, you can adjust the objective function accordingly and simply specify initial values for the parameters on each feature.  Below, this is demonstrated with `total_bill` and `size`."
   ]
  },
  {
   "cell_type": "code",
   "execution_count": 12,
   "id": "a29af89c",
   "metadata": {
    "nbgrader": {
     "grade": false,
     "grade_id": "cell-b120e3e074c1fd7b",
     "locked": true,
     "schema_version": 3,
     "solution": false,
     "task": false
    }
   },
   "outputs": [],
   "source": [
    "def lasso(beta):\n",
    "    loss = (x@beta - y)**2 + alpha*np.abs(np.sum(beta))\n",
    "    return np.mean(loss)"
   ]
  },
  {
   "cell_type": "code",
   "execution_count": 13,
   "id": "dca15866",
   "metadata": {
    "nbgrader": {
     "grade": false,
     "grade_id": "cell-afda42a53e2f9b47",
     "locked": true,
     "schema_version": 3,
     "solution": false,
     "task": false
    }
   },
   "outputs": [],
   "source": [
    "x = tips[['total_bill', 'size']]"
   ]
  },
  {
   "cell_type": "code",
   "execution_count": 14,
   "id": "164fb5af",
   "metadata": {
    "nbgrader": {
     "grade": false,
     "grade_id": "cell-a48af32d24b93953",
     "locked": true,
     "schema_version": 3,
     "solution": false,
     "task": false
    }
   },
   "outputs": [
    {
     "data": {
      "text/plain": [
       "448.87121270491804"
      ]
     },
     "execution_count": 14,
     "metadata": {},
     "output_type": "execute_result"
    }
   ],
   "source": [
    "#prediction with total_bill coef = 1 and size coef = 1\n",
    "lasso(np.array([1, 1]))"
   ]
  },
  {
   "cell_type": "code",
   "execution_count": 15,
   "id": "2a772563",
   "metadata": {
    "nbgrader": {
     "grade": false,
     "grade_id": "cell-af200af9abcb092e",
     "locked": true,
     "schema_version": 3,
     "solution": false,
     "task": false
    }
   },
   "outputs": [],
   "source": [
    "#find parameters that minimize the loss\n",
    "results = minimize(lasso, x0 = (0, 0))"
   ]
  },
  {
   "cell_type": "code",
   "execution_count": 16,
   "id": "0eeb1118",
   "metadata": {
    "nbgrader": {
     "grade": false,
     "grade_id": "cell-9812b95e93e2eb28",
     "locked": true,
     "schema_version": 3,
     "solution": false,
     "task": false
    }
   },
   "outputs": [
    {
     "name": "stdout",
     "output_type": "stream",
     "text": [
      "The parameters for the new model are total bill:  0.1067 and size:  0.3111\n"
     ]
    }
   ],
   "source": [
    "print(f'The parameters for the new model are total bill: {results.x[0]: .4f} and size: {results.x[1]: .4f}')"
   ]
  },
  {
   "cell_type": "markdown",
   "id": "821f4b85",
   "metadata": {
    "nbgrader": {
     "grade": false,
     "grade_id": "cell-41bb6aafe832996a",
     "locked": true,
     "schema_version": 3,
     "solution": false,
     "task": false
    }
   },
   "source": [
    "### Using `scikit-learn`\n",
    "\n",
    "In practice you would likely use `sklearn` to build a LASSO regression model.  Below, the estimator is imported and a model with no $y$-intercept is fit on the tips data.  The resulting coefficient is displayed -- note the similarity to the results from the `minimize` function."
   ]
  },
  {
   "cell_type": "code",
   "execution_count": 17,
   "id": "9b4a2ae1",
   "metadata": {
    "nbgrader": {
     "grade": false,
     "grade_id": "cell-c30bafe5014c0a30",
     "locked": true,
     "schema_version": 3,
     "solution": false,
     "task": false
    }
   },
   "outputs": [],
   "source": [
    "from sklearn.linear_model import Lasso"
   ]
  },
  {
   "cell_type": "code",
   "execution_count": 18,
   "id": "229373f6",
   "metadata": {
    "nbgrader": {
     "grade": false,
     "grade_id": "cell-c43afff559d9b3dd",
     "locked": true,
     "schema_version": 3,
     "solution": false,
     "task": false
    }
   },
   "outputs": [],
   "source": [
    "#use same alpha and no y-intercept\n",
    "lasso = Lasso(alpha = 0.1, fit_intercept=False)"
   ]
  },
  {
   "cell_type": "code",
   "execution_count": 19,
   "id": "3a9f9c3b",
   "metadata": {
    "nbgrader": {
     "grade": false,
     "grade_id": "cell-f97e3508f14ba010",
     "locked": true,
     "schema_version": 3,
     "solution": false,
     "task": false
    }
   },
   "outputs": [
    {
     "data": {
      "text/html": [
       "<style>#sk-container-id-1 {color: black;background-color: white;}#sk-container-id-1 pre{padding: 0;}#sk-container-id-1 div.sk-toggleable {background-color: white;}#sk-container-id-1 label.sk-toggleable__label {cursor: pointer;display: block;width: 100%;margin-bottom: 0;padding: 0.3em;box-sizing: border-box;text-align: center;}#sk-container-id-1 label.sk-toggleable__label-arrow:before {content: \"▸\";float: left;margin-right: 0.25em;color: #696969;}#sk-container-id-1 label.sk-toggleable__label-arrow:hover:before {color: black;}#sk-container-id-1 div.sk-estimator:hover label.sk-toggleable__label-arrow:before {color: black;}#sk-container-id-1 div.sk-toggleable__content {max-height: 0;max-width: 0;overflow: hidden;text-align: left;background-color: #f0f8ff;}#sk-container-id-1 div.sk-toggleable__content pre {margin: 0.2em;color: black;border-radius: 0.25em;background-color: #f0f8ff;}#sk-container-id-1 input.sk-toggleable__control:checked~div.sk-toggleable__content {max-height: 200px;max-width: 100%;overflow: auto;}#sk-container-id-1 input.sk-toggleable__control:checked~label.sk-toggleable__label-arrow:before {content: \"▾\";}#sk-container-id-1 div.sk-estimator input.sk-toggleable__control:checked~label.sk-toggleable__label {background-color: #d4ebff;}#sk-container-id-1 div.sk-label input.sk-toggleable__control:checked~label.sk-toggleable__label {background-color: #d4ebff;}#sk-container-id-1 input.sk-hidden--visually {border: 0;clip: rect(1px 1px 1px 1px);clip: rect(1px, 1px, 1px, 1px);height: 1px;margin: -1px;overflow: hidden;padding: 0;position: absolute;width: 1px;}#sk-container-id-1 div.sk-estimator {font-family: monospace;background-color: #f0f8ff;border: 1px dotted black;border-radius: 0.25em;box-sizing: border-box;margin-bottom: 0.5em;}#sk-container-id-1 div.sk-estimator:hover {background-color: #d4ebff;}#sk-container-id-1 div.sk-parallel-item::after {content: \"\";width: 100%;border-bottom: 1px solid gray;flex-grow: 1;}#sk-container-id-1 div.sk-label:hover label.sk-toggleable__label {background-color: #d4ebff;}#sk-container-id-1 div.sk-serial::before {content: \"\";position: absolute;border-left: 1px solid gray;box-sizing: border-box;top: 0;bottom: 0;left: 50%;z-index: 0;}#sk-container-id-1 div.sk-serial {display: flex;flex-direction: column;align-items: center;background-color: white;padding-right: 0.2em;padding-left: 0.2em;position: relative;}#sk-container-id-1 div.sk-item {position: relative;z-index: 1;}#sk-container-id-1 div.sk-parallel {display: flex;align-items: stretch;justify-content: center;background-color: white;position: relative;}#sk-container-id-1 div.sk-item::before, #sk-container-id-1 div.sk-parallel-item::before {content: \"\";position: absolute;border-left: 1px solid gray;box-sizing: border-box;top: 0;bottom: 0;left: 50%;z-index: -1;}#sk-container-id-1 div.sk-parallel-item {display: flex;flex-direction: column;z-index: 1;position: relative;background-color: white;}#sk-container-id-1 div.sk-parallel-item:first-child::after {align-self: flex-end;width: 50%;}#sk-container-id-1 div.sk-parallel-item:last-child::after {align-self: flex-start;width: 50%;}#sk-container-id-1 div.sk-parallel-item:only-child::after {width: 0;}#sk-container-id-1 div.sk-dashed-wrapped {border: 1px dashed gray;margin: 0 0.4em 0.5em 0.4em;box-sizing: border-box;padding-bottom: 0.4em;background-color: white;}#sk-container-id-1 div.sk-label label {font-family: monospace;font-weight: bold;display: inline-block;line-height: 1.2em;}#sk-container-id-1 div.sk-label-container {text-align: center;}#sk-container-id-1 div.sk-container {/* jupyter's `normalize.less` sets `[hidden] { display: none; }` but bootstrap.min.css set `[hidden] { display: none !important; }` so we also need the `!important` here to be able to override the default hidden behavior on the sphinx rendered scikit-learn.org. See: https://github.com/scikit-learn/scikit-learn/issues/21755 */display: inline-block !important;position: relative;}#sk-container-id-1 div.sk-text-repr-fallback {display: none;}</style><div id=\"sk-container-id-1\" class=\"sk-top-container\"><div class=\"sk-text-repr-fallback\"><pre>Lasso(alpha=0.1, fit_intercept=False)</pre><b>In a Jupyter environment, please rerun this cell to show the HTML representation or trust the notebook. <br />On GitHub, the HTML representation is unable to render, please try loading this page with nbviewer.org.</b></div><div class=\"sk-container\" hidden><div class=\"sk-item\"><div class=\"sk-estimator sk-toggleable\"><input class=\"sk-toggleable__control sk-hidden--visually\" id=\"sk-estimator-id-1\" type=\"checkbox\" checked><label for=\"sk-estimator-id-1\" class=\"sk-toggleable__label sk-toggleable__label-arrow\">Lasso</label><div class=\"sk-toggleable__content\"><pre>Lasso(alpha=0.1, fit_intercept=False)</pre></div></div></div></div></div>"
      ],
      "text/plain": [
       "Lasso(alpha=0.1, fit_intercept=False)"
      ]
     },
     "execution_count": 19,
     "metadata": {},
     "output_type": "execute_result"
    }
   ],
   "source": [
    "x = x[['total_bill']]\n",
    "#fit model on total bill\n",
    "lasso.fit(x, y)"
   ]
  },
  {
   "cell_type": "code",
   "execution_count": 20,
   "id": "771be916",
   "metadata": {
    "nbgrader": {
     "grade": false,
     "grade_id": "cell-ee00214e37cc6a5c",
     "locked": true,
     "schema_version": 3,
     "solution": false,
     "task": false
    }
   },
   "outputs": [
    {
     "name": "stdout",
     "output_type": "stream",
     "text": [
      "The sklearn lasso model is minimized with beta =  0.1435\n"
     ]
    }
   ],
   "source": [
    "print(f'The sklearn lasso model is minimized with beta = {lasso.coef_[0]: .4f}')"
   ]
  },
  {
   "cell_type": "markdown",
   "id": "96e8fb18",
   "metadata": {
    "nbgrader": {
     "grade": false,
     "grade_id": "cell-1e383483cd7aeb8d",
     "locked": true,
     "schema_version": 3,
     "solution": false,
     "task": false
    }
   },
   "source": [
    "###### [Back to top](#Index:)\n",
    "\n",
    "### Question 1\n",
    "\n",
    "Use `sklearn` and the `Lasso` estimator with `alpha = 0.01` to build and fit a LASSO regression model on the `credit` data given as `X_train`, `y_train` below."
   ]
  },
  {
   "cell_type": "code",
   "execution_count": 22,
   "id": "10305113",
   "metadata": {
    "nbgrader": {
     "grade": false,
     "grade_id": "cell-eeea8a78ac02687a",
     "locked": true,
     "schema_version": 3,
     "solution": false,
     "task": false
    }
   },
   "outputs": [],
   "source": [
    "credit = pd.read_csv('credit.csv', index_col=0)"
   ]
  },
  {
   "cell_type": "code",
   "execution_count": 23,
   "id": "a51b62de",
   "metadata": {
    "nbgrader": {
     "grade": false,
     "grade_id": "cell-05dce79924cc2004",
     "locked": true,
     "schema_version": 3,
     "solution": false,
     "task": false
    }
   },
   "outputs": [
    {
     "data": {
      "text/html": [
       "<div>\n",
       "<style scoped>\n",
       "    .dataframe tbody tr th:only-of-type {\n",
       "        vertical-align: middle;\n",
       "    }\n",
       "\n",
       "    .dataframe tbody tr th {\n",
       "        vertical-align: top;\n",
       "    }\n",
       "\n",
       "    .dataframe thead th {\n",
       "        text-align: right;\n",
       "    }\n",
       "</style>\n",
       "<table border=\"1\" class=\"dataframe\">\n",
       "  <thead>\n",
       "    <tr style=\"text-align: right;\">\n",
       "      <th></th>\n",
       "      <th>Income</th>\n",
       "      <th>Limit</th>\n",
       "      <th>Rating</th>\n",
       "      <th>Cards</th>\n",
       "      <th>Age</th>\n",
       "      <th>Education</th>\n",
       "      <th>Gender</th>\n",
       "      <th>Student</th>\n",
       "      <th>Married</th>\n",
       "      <th>Ethnicity</th>\n",
       "      <th>Balance</th>\n",
       "    </tr>\n",
       "  </thead>\n",
       "  <tbody>\n",
       "    <tr>\n",
       "      <th>1</th>\n",
       "      <td>14.891</td>\n",
       "      <td>3606</td>\n",
       "      <td>283</td>\n",
       "      <td>2</td>\n",
       "      <td>34</td>\n",
       "      <td>11</td>\n",
       "      <td>Male</td>\n",
       "      <td>No</td>\n",
       "      <td>Yes</td>\n",
       "      <td>Caucasian</td>\n",
       "      <td>333</td>\n",
       "    </tr>\n",
       "    <tr>\n",
       "      <th>2</th>\n",
       "      <td>106.025</td>\n",
       "      <td>6645</td>\n",
       "      <td>483</td>\n",
       "      <td>3</td>\n",
       "      <td>82</td>\n",
       "      <td>15</td>\n",
       "      <td>Female</td>\n",
       "      <td>Yes</td>\n",
       "      <td>Yes</td>\n",
       "      <td>Asian</td>\n",
       "      <td>903</td>\n",
       "    </tr>\n",
       "    <tr>\n",
       "      <th>3</th>\n",
       "      <td>104.593</td>\n",
       "      <td>7075</td>\n",
       "      <td>514</td>\n",
       "      <td>4</td>\n",
       "      <td>71</td>\n",
       "      <td>11</td>\n",
       "      <td>Male</td>\n",
       "      <td>No</td>\n",
       "      <td>No</td>\n",
       "      <td>Asian</td>\n",
       "      <td>580</td>\n",
       "    </tr>\n",
       "    <tr>\n",
       "      <th>4</th>\n",
       "      <td>148.924</td>\n",
       "      <td>9504</td>\n",
       "      <td>681</td>\n",
       "      <td>3</td>\n",
       "      <td>36</td>\n",
       "      <td>11</td>\n",
       "      <td>Female</td>\n",
       "      <td>No</td>\n",
       "      <td>No</td>\n",
       "      <td>Asian</td>\n",
       "      <td>964</td>\n",
       "    </tr>\n",
       "    <tr>\n",
       "      <th>5</th>\n",
       "      <td>55.882</td>\n",
       "      <td>4897</td>\n",
       "      <td>357</td>\n",
       "      <td>2</td>\n",
       "      <td>68</td>\n",
       "      <td>16</td>\n",
       "      <td>Male</td>\n",
       "      <td>No</td>\n",
       "      <td>Yes</td>\n",
       "      <td>Caucasian</td>\n",
       "      <td>331</td>\n",
       "    </tr>\n",
       "  </tbody>\n",
       "</table>\n",
       "</div>"
      ],
      "text/plain": [
       "    Income  Limit  Rating  Cards  Age  Education  Gender Student Married   \n",
       "1   14.891   3606     283      2   34         11    Male      No     Yes  \\\n",
       "2  106.025   6645     483      3   82         15  Female     Yes     Yes   \n",
       "3  104.593   7075     514      4   71         11    Male      No      No   \n",
       "4  148.924   9504     681      3   36         11  Female      No      No   \n",
       "5   55.882   4897     357      2   68         16    Male      No     Yes   \n",
       "\n",
       "   Ethnicity  Balance  \n",
       "1  Caucasian      333  \n",
       "2      Asian      903  \n",
       "3      Asian      580  \n",
       "4      Asian      964  \n",
       "5  Caucasian      331  "
      ]
     },
     "execution_count": 23,
     "metadata": {},
     "output_type": "execute_result"
    }
   ],
   "source": [
    "#task is to predict the Balance column\n",
    "credit.head()"
   ]
  },
  {
   "cell_type": "code",
   "execution_count": 24,
   "id": "2a31dd0b",
   "metadata": {
    "nbgrader": {
     "grade": false,
     "grade_id": "cell-d0b64aec1b05fac5",
     "locked": true,
     "schema_version": 3,
     "solution": false,
     "task": false
    }
   },
   "outputs": [],
   "source": [
    "X = credit[['Income', 'Limit', 'Rating', 'Cards', 'Age', 'Education']]\n",
    "y = credit['Balance']\n",
    "\n",
    "sscaler = StandardScaler()\n",
    "#split the data\n",
    "X_train, X_test, y_train, y_test = train_test_split(X, y, random_state=22)\n",
    "#scale the data\n",
    "X_train = sscaler.fit_transform(X_train)\n",
    "X_test = sscaler.transform(X_test)"
   ]
  },
  {
   "cell_type": "code",
   "execution_count": 25,
   "id": "a092209f",
   "metadata": {
    "nbgrader": {
     "grade": false,
     "grade_id": "cell-a3b1e7b95d73abb6",
     "locked": false,
     "schema_version": 3,
     "solution": true,
     "task": false
    }
   },
   "outputs": [
    {
     "name": "stdout",
     "output_type": "stream",
     "text": [
      "Feature Income has coefficient -252.1683\n",
      "Feature Limit has coefficient  326.5163\n",
      "Feature Rating has coefficient  278.5763\n",
      "Feature Cards has coefficient  8.8645\n",
      "Feature Age has coefficient -17.7623\n",
      "Feature Education has coefficient  3.9519\n"
     ]
    }
   ],
   "source": [
    "model = ''\n",
    "###BEGIN SOLUTION\n",
    "model = Lasso(alpha = 0.1).fit(X_train, y_train)\n",
    "###END SOLUTION\n",
    "#Answer check\n",
    "for col, coef in zip(X.columns.tolist(), model.coef_):\n",
    "    print(f'Feature {col} has coefficient {coef: .4f}')"
   ]
  },
  {
   "cell_type": "code",
   "execution_count": 26,
   "id": "1d0244bc",
   "metadata": {
    "nbgrader": {
     "grade": true,
     "grade_id": "cell-09346b5d6e0fbf2b",
     "locked": true,
     "points": 1,
     "schema_version": 3,
     "solution": false,
     "task": false
    }
   },
   "outputs": [],
   "source": [
    "### BEGIN HIDDEN TESTS\n",
    "model_ = Lasso(alpha = 0.1).fit(X_train, y_train)\n",
    "\n",
    "\n",
    "\n",
    "#\n",
    "#\n",
    "#\n",
    "np.testing.assert_array_almost_equal(model.coef_, model_.coef_)\n",
    "### END HIDDEN TESTS"
   ]
  },
  {
   "cell_type": "markdown",
   "id": "58ab5800",
   "metadata": {
    "nbgrader": {
     "grade": false,
     "grade_id": "cell-59671076b420ce02",
     "locked": true,
     "schema_version": 3,
     "solution": false,
     "task": false
    }
   },
   "source": [
    "###### [Back to top](#Index:)\n",
    "\n",
    "### Question 2\n",
    "\n",
    "Fit a second LASSO model as `model2` on the training data using `alpha = 100` -- much more of a penalty than that of the first model."
   ]
  },
  {
   "cell_type": "code",
   "execution_count": 27,
   "id": "42f8dc68",
   "metadata": {
    "nbgrader": {
     "grade": false,
     "grade_id": "cell-92f861e8e55d6270",
     "locked": false,
     "schema_version": 3,
     "solution": true,
     "task": false
    }
   },
   "outputs": [
    {
     "name": "stdout",
     "output_type": "stream",
     "text": [
      "Feature Income has coefficient -0.0000\n",
      "Feature Limit has coefficient  162.4033\n",
      "Feature Rating has coefficient  143.2957\n",
      "Feature Cards has coefficient  0.0000\n",
      "Feature Age has coefficient -0.0000\n",
      "Feature Education has coefficient  0.0000\n"
     ]
    }
   ],
   "source": [
    "model2 = ''\n",
    "###BEGIN SOLUTION\n",
    "model2 = Lasso(alpha = 100).fit(X_train, y_train)\n",
    "###END SOLUTION\n",
    "#Answer check\n",
    "for col, coef in zip(X.columns.tolist(), model2.coef_):\n",
    "    print(f'Feature {col} has coefficient {coef: .4f}')"
   ]
  },
  {
   "cell_type": "code",
   "execution_count": 28,
   "id": "0c7e38a6",
   "metadata": {
    "nbgrader": {
     "grade": true,
     "grade_id": "cell-ab7c8fd140be44fc",
     "locked": true,
     "points": 1,
     "schema_version": 3,
     "solution": false,
     "task": false
    }
   },
   "outputs": [],
   "source": [
    "### BEGIN HIDDEN TESTS\n",
    "model2_ = Lasso(alpha = 100).fit(X_train, y_train)\n",
    "\n",
    "\n",
    "\n",
    "#\n",
    "#\n",
    "#\n",
    "np.testing.assert_array_almost_equal(model2.coef_, model2_.coef_)\n",
    "### END HIDDEN TESTS"
   ]
  },
  {
   "cell_type": "markdown",
   "id": "7e2c8bbc",
   "metadata": {
    "nbgrader": {
     "grade": false,
     "grade_id": "cell-c0f78a9f127f38cc",
     "locked": true,
     "schema_version": 3,
     "solution": false,
     "task": false
    }
   },
   "source": [
    "###### [Back to top](#Index:)\n",
    "\n",
    "### Question 3\n",
    "\n",
    "Compare the coefficients from the model with `alpha = 0.1` to that of the model with `alpha = 100`.  This is an important feature of the LASSO model -- it eliminates features that might be considered 'less important' to the model.  While it typically underperforms other regression models, the LASSO model can be used to select features.  Which of the features below are the important features based on the `alpha = 100` model?  Assign your answer `a`, `b`, `c` or `d` as a string to `ans3` below.\n",
    "\n",
    "```\n",
    "a. Income and age\n",
    "b. Limit and rating\n",
    "c. Age and education\n",
    "d. All the features are equally important\n",
    "```"
   ]
  },
  {
   "cell_type": "code",
   "execution_count": 29,
   "id": "c0e015ed",
   "metadata": {
    "nbgrader": {
     "grade": false,
     "grade_id": "cell-b312bbcf14099180",
     "locked": false,
     "schema_version": 3,
     "solution": true,
     "task": false
    }
   },
   "outputs": [
    {
     "name": "stdout",
     "output_type": "stream",
     "text": [
      "<class 'str'>\n",
      "b\n"
     ]
    }
   ],
   "source": [
    "ans3 = ''\n",
    "###BEGIN SOLUTION\n",
    "ans3 = 'b'\n",
    "###END SOLUTION\n",
    "print(type(ans3))\n",
    "print(ans3)"
   ]
  },
  {
   "cell_type": "code",
   "execution_count": 30,
   "id": "46e8d03b",
   "metadata": {
    "nbgrader": {
     "grade": true,
     "grade_id": "cell-1c35d26eda1210ca",
     "locked": true,
     "points": 1,
     "schema_version": 3,
     "solution": false,
     "task": false
    }
   },
   "outputs": [],
   "source": [
    "### BEGIN HIDDEN TESTS\n",
    "ans3_ = 'b'\n",
    "\n",
    "\n",
    "\n",
    "#\n",
    "#\n",
    "#\n",
    "assert ans3 == ans3_\n",
    "### END HIDDEN TESTS"
   ]
  },
  {
   "cell_type": "markdown",
   "id": "7191ab61",
   "metadata": {
    "nbgrader": {
     "grade": false,
     "grade_id": "cell-a4e2b7f90465a80f",
     "locked": true,
     "schema_version": 3,
     "solution": false,
     "task": false
    }
   },
   "source": [
    "Great job!  The LASSO is another example of a nonlinear optimisation problem; however, because it is a convex loss function, you are guaranteed to find a minimimum value.  "
   ]
  },
  {
   "cell_type": "code",
   "execution_count": null,
   "id": "505b931c",
   "metadata": {},
   "outputs": [],
   "source": []
  }
 ],
 "metadata": {
  "celltoolbar": "Create Assignment",
  "kernelspec": {
   "display_name": "Python 3",
   "language": "python",
   "name": "python3"
  },
  "language_info": {
   "codemirror_mode": {
    "name": "ipython",
    "version": 3
   },
   "file_extension": ".py",
   "mimetype": "text/x-python",
   "name": "python",
   "nbconvert_exporter": "python",
   "pygments_lexer": "ipython3",
   "version": "3.8.8"
  }
 },
 "nbformat": 4,
 "nbformat_minor": 5
}
